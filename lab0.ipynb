{
 "cells": [
  {
   "cell_type": "markdown",
   "id": "119e280c-865b-4763-8688-cba6bd65d34a",
   "metadata": {},
   "source": [
    "## Норвегія\n",
    "\n",
    "## Загальна інформація\n",
    "**Норвегія** (офіційна назва - *Королівство Норвегія*) - країна у Північній Європі, що розташована на Скандинавському півострові.\n",
    "\n",
    "### Основні характеристики:\n",
    "- **Столиця:** Осло  \n",
    "- **Площа:** 385 207 км^2  \n",
    "- **Населення:** ~5,4 млн осіб  \n",
    "- **Офіційна мова:** Норвезька  \n",
    "- **Форма правління:** Конституційна монархія  \n",
    "\n",
    "## 🌍 Географія\n",
    "Норвегія межує з:\n",
    "- **Швецією** на сході\n",
    "- **Фінляндією** на північному сході\n",
    "- **Росією** на крайній північній частині\n",
    "\n",
    "Рельєф країни включає:\n",
    "- Фіорди вздовж узбережжя Атлантичного океану  \n",
    "- Внутрішні райони:\n",
    "  - **Гори:**  \n",
    "    - Гальхепігген (найвища точка)  \n",
    "  - **Річки:**  \n",
    "    - Гломма  \n",
    "    - Логен  \n",
    "  - **Водоспади:**  \n",
    "    - Ворінгфоссен  \n",
    "    - Лангфоссен  \n",
    "\n",
    "---\n",
    "\n",
    "## 📜 Історія\n",
    "- **872** - об`єднання Норвегії під владою Гарольда Прекрасноволосого\n",
    "- **1397** - входження до Кальмарської унії  \n",
    "- **1905** - здобуття незалежності від Швеції  \n",
    "\n",
    "---\n",
    "\n",
    "## 🎭 Культура\n",
    "### Визначні пам’ятки:\n",
    "- **Бріксдальський льодовик**  \n",
    "- **Фіорд Гейрангер**  \n",
    "- **Ставкірка в Урнесе**  \n",
    "\n",
    "### Видатні особистості:\n",
    "- **Едвард Гріг** - композитор  \n",
    "- **Генрік Ібсен** - драматург  \n",
    "- **Фрітьйоф Нансен** - дослідник Арктики  \n",
    "\n",
    "---\n",
    "\n",
    "## 📊 Економіка\n",
    "\n",
    "| Галузь          | Частка ВВП |\n",
    "|----------------|------------|\n",
    "| Нафтогазова промисловість | 20%       |\n",
    "| Судноплавство     | 15%       |\n",
    "| ІТ та технології            | 10%       |\n",
    "\n",
    "---\n",
    "\n",
    "## 📷 Зображення\n",
    "### Фіорд Гейрангер:\n",
    "![Geiranger Fjord](https://dynamic-media-cdn.tripadvisor.com/media/photo-o/16/5d/15/85/il-fiordo-di-geirangerfjord.jpg)\n"
   ]
  },
  {
   "cell_type": "code",
   "execution_count": 77,
   "id": "21a43528-50db-4f29-aa17-a4af964a1b64",
   "metadata": {},
   "outputs": [
    {
     "data": {
      "text/html": [
       "<h1>Прапор Норвегії (SVG):</h1>\n",
       "<svg width=\"300\" height=\"200\">\n",
       "  <rect width=\"300\" height=\"200\" fill=\"red\"/>\n",
       "  <rect x=\"80\" width=\"40\" height=\"200\" fill=\"white\"/>\n",
       "  <rect y=\"80\" width=\"300\" height=\"40\" fill=\"white\"/>\n",
       "  <rect x=\"90\" width=\"20\" height=\"200\" fill=\"blue\"/>\n",
       "  <rect y=\"90\" width=\"300\" height=\"20\" fill=\"blue\"/>\n",
       "</svg>\n"
      ],
      "text/plain": [
       "<IPython.core.display.HTML object>"
      ]
     },
     "metadata": {},
     "output_type": "display_data"
    }
   ],
   "source": [
    "%%HTML\n",
    "<h1>Прапор Норвегії (SVG):</h1>\n",
    "<svg width=\"300\" height=\"200\">\n",
    "  <rect width=\"300\" height=\"200\" fill=\"red\"/>\n",
    "  <rect x=\"80\" width=\"40\" height=\"200\" fill=\"white\"/>\n",
    "  <rect y=\"80\" width=\"300\" height=\"40\" fill=\"white\"/>\n",
    "  <rect x=\"90\" width=\"20\" height=\"200\" fill=\"blue\"/>\n",
    "  <rect y=\"90\" width=\"300\" height=\"20\" fill=\"blue\"/>\n",
    "</svg>"
   ]
  },
  {
   "cell_type": "code",
   "execution_count": 3,
   "id": "46a69e8b-68f8-4924-995e-e291a2b84683",
   "metadata": {},
   "outputs": [
    {
     "name": "stdout",
     "output_type": "stream",
     "text": [
      "3^2 + 6^2 = 45\n",
      "Число 21 не можна представити квадратами цілих чисел\n"
     ]
    }
   ],
   "source": [
    "import math\n",
    "\n",
    "def task_10(N):\n",
    "    if not isinstance(N, int) or N <= 0:\n",
    "        return \"Введене число повинно бути натуральним.\"\n",
    "    \n",
    "    for a in range(int(math.sqrt(N)) + 1):\n",
    "        b_square = N - a**2\n",
    "        b = int(math.sqrt(b_square))\n",
    "        if a**2 + b**2 == N:\n",
    "            return f\"{a}^2 + {b}^2 = {N}\"\n",
    "    \n",
    "    return f\"Число {N} не можна представити квадратами цілих чисел\"\n",
    "\n",
    "print(task_10(45))  # Очікуваний вихід: 'Число 21 не можна представити квадратами цілих чисел'"
   ]
  },
  {
   "cell_type": "code",
   "execution_count": 7,
   "id": "500bf844-9125-4282-acee-8e5a8b6b3ee6",
   "metadata": {},
   "outputs": [
    {
     "name": "stdout",
     "output_type": "stream",
     "text": [
      "My variant:  10\n"
     ]
    }
   ],
   "source": [
    "N = ord(\"Y\") % 10 + 1\n",
    "print(\"My variant: \", N)"
   ]
  },
  {
   "cell_type": "code",
   "execution_count": null,
   "id": "421cb94d-8c33-461c-99a4-dd14f10a3ffa",
   "metadata": {},
   "outputs": [],
   "source": []
  }
 ],
 "metadata": {
  "kernelspec": {
   "display_name": "Python [conda env:base] *",
   "language": "python",
   "name": "conda-base-py"
  },
  "language_info": {
   "codemirror_mode": {
    "name": "ipython",
    "version": 3
   },
   "file_extension": ".py",
   "mimetype": "text/x-python",
   "name": "python",
   "nbconvert_exporter": "python",
   "pygments_lexer": "ipython3",
   "version": "3.12.7"
  }
 },
 "nbformat": 4,
 "nbformat_minor": 5
}
