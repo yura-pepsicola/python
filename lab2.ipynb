{
 "cells": [
  {
   "cell_type": "code",
   "execution_count": 777,
   "id": "500bf844-9125-4282-acee-8e5a8b6b3ee6",
   "metadata": {},
   "outputs": [
    {
     "name": "stdout",
     "output_type": "stream",
     "text": [
      "My variant:  1\n"
     ]
    }
   ],
   "source": [
    "N = (11 + 4) % 5 + 1\n",
    "print(\"My variant: \", N)"
   ]
  },
  {
   "cell_type": "markdown",
   "id": "605e7042-ac15-4db3-8774-a2fd5da5501a",
   "metadata": {},
   "source": [
    "## Завдання 1"
   ]
  },
  {
   "cell_type": "code",
   "execution_count": 779,
   "id": "f7480200-cee6-49b0-934f-f81921bb993f",
   "metadata": {},
   "outputs": [
    {
     "name": "stdout",
     "output_type": "stream",
     "text": [
      "   Id       Name  Year Gender  Count\n",
      "0   1       Mary  1880      F   7065\n",
      "1   2       Anna  1880      F   2604\n",
      "2   3       Emma  1880      F   2003\n",
      "3   4  Elizabeth  1880      F   1939\n",
      "4   5     Minnie  1880      F   1746\n",
      "5   6   Margaret  1880      F   1578\n",
      "6   7        Ida  1880      F   1472\n",
      "7   8      Alice  1880      F   1414\n"
     ]
    }
   ],
   "source": [
    "import pandas as pd\n",
    "names = pd.read_csv(\"NationalNames.csv\")\n",
    "\n",
    "print(names.head(8))"
   ]
  },
  {
   "cell_type": "markdown",
   "id": "c6869a26-100f-4593-9103-a270db728aa0",
   "metadata": {},
   "source": [
    "## Завдання 2"
   ]
  },
  {
   "cell_type": "code",
   "execution_count": 781,
   "id": "723df721-8185-4ba4-a9bd-3076b1e49ece",
   "metadata": {},
   "outputs": [
    {
     "name": "stdout",
     "output_type": "stream",
     "text": [
      "              Id     Name  Year Gender  Count\n",
      "1825425  1825426       Zo  2014      M      5\n",
      "1825426  1825427    Zyeir  2014      M      5\n",
      "1825427  1825428     Zyel  2014      M      5\n",
      "1825428  1825429   Zykeem  2014      M      5\n",
      "1825429  1825430   Zymeer  2014      M      5\n",
      "1825430  1825431  Zymiere  2014      M      5\n",
      "1825431  1825432    Zyran  2014      M      5\n",
      "1825432  1825433    Zyrin  2014      M      5\n"
     ]
    }
   ],
   "source": [
    "print(names.tail(8))"
   ]
  },
  {
   "cell_type": "markdown",
   "id": "d55ba446-840d-4a50-a132-6574d202dd87",
   "metadata": {},
   "source": [
    "## Завдання 3"
   ]
  },
  {
   "cell_type": "code",
   "execution_count": 783,
   "id": "708f2dde-278a-4f4d-824e-43ecec99129a",
   "metadata": {},
   "outputs": [
    {
     "name": "stdout",
     "output_type": "stream",
     "text": [
      "Index(['Id', 'Name', 'Year', 'Gender', 'Count'], dtype='object')\n"
     ]
    }
   ],
   "source": [
    "df = pd.DataFrame(names)\n",
    "columns = df.columns\n",
    "print(columns)"
   ]
  },
  {
   "cell_type": "markdown",
   "id": "0df0714b-21d0-43d0-a759-24ef9fe4762c",
   "metadata": {},
   "source": [
    "## Завдання 5"
   ]
  },
  {
   "cell_type": "code",
   "execution_count": 785,
   "id": "5c746b9e-cb60-4c34-a735-8b98661073ed",
   "metadata": {},
   "outputs": [
    {
     "name": "stdout",
     "output_type": "stream",
     "text": [
      "93889\n"
     ]
    }
   ],
   "source": [
    "print(names['Name'].nunique())"
   ]
  },
  {
   "cell_type": "markdown",
   "id": "661811aa-6e0c-4b4d-b8a0-b56d8c1676e0",
   "metadata": {},
   "source": [
    "## Завдання 10"
   ]
  },
  {
   "cell_type": "code",
   "execution_count": 787,
   "id": "18644483-6751-4e72-bb7d-7429cfe1d99e",
   "metadata": {},
   "outputs": [
    {
     "name": "stdout",
     "output_type": "stream",
     "text": [
      "     Year   Name\n",
      "0    1880   1889\n",
      "1    1881   1830\n",
      "2    1882   2012\n",
      "3    1883   1962\n",
      "4    1884   2158\n",
      "..    ...    ...\n",
      "130  2010  31603\n",
      "131  2011  31418\n",
      "132  2012  31236\n",
      "133  2013  30774\n",
      "134  2014  30579\n",
      "\n",
      "[135 rows x 2 columns]\n"
     ]
    }
   ],
   "source": [
    "unique_names_per_year = names.groupby('Year')['Name'].nunique()\n",
    "\n",
    "print(unique_names_per_year.reset_index())"
   ]
  },
  {
   "cell_type": "markdown",
   "id": "24d9e809-4fed-4ecf-8678-9d6a6f643d67",
   "metadata": {},
   "source": [
    "## Завдання 11"
   ]
  },
  {
   "cell_type": "code",
   "execution_count": 789,
   "id": "0eed8206-12b0-4d99-a9fd-7f3a7bc33146",
   "metadata": {},
   "outputs": [
    {
     "name": "stdout",
     "output_type": "stream",
     "text": [
      "   Year  Count\n",
      "0  2008  32488\n"
     ]
    }
   ],
   "source": [
    "unique_names_per_year = names.groupby('Year')['Name'].nunique()\n",
    "\n",
    "year_with_max_unique_names = unique_names_per_year.idxmax()\n",
    "max_unique_names_count = unique_names_per_year.max()\n",
    "\n",
    "result_df = pd.DataFrame({\n",
    "    'Year': [year_with_max_unique_names],\n",
    "    'Count': [max_unique_names_count]\n",
    "})\n",
    "\n",
    "print(result_df)"
   ]
  },
  {
   "cell_type": "markdown",
   "id": "b4e018b7-b2c0-404e-9922-652ffd5398ef",
   "metadata": {},
   "source": [
    "## Завдання 12"
   ]
  },
  {
   "cell_type": "code",
   "execution_count": 791,
   "id": "d94dcd1a-f8d1-4a44-8ee6-2d90c13169fe",
   "metadata": {},
   "outputs": [
    {
     "name": "stdout",
     "output_type": "stream",
     "text": [
      "Jacob\n"
     ]
    }
   ],
   "source": [
    "unique_names_per_year = names.groupby('Year')['Name'].nunique()\n",
    "year_with_max_unique_names = unique_names_per_year.idxmax()\n",
    "\n",
    "most_popular_name = names[names['Year'] == year_with_max_unique_names].sort_values(by='Count', ascending=False).head(1)\n",
    "\n",
    "print(most_popular_name['Name'].iloc[0])"
   ]
  },
  {
   "cell_type": "markdown",
   "id": "e965d30b-0915-4034-99f5-907b67793e05",
   "metadata": {},
   "source": [
    "## Завдання 13"
   ]
  },
  {
   "cell_type": "code",
   "execution_count": 793,
   "id": "3c066d2c-f1d9-4315-9b29-57f8e1638f38",
   "metadata": {},
   "outputs": [
    {
     "name": "stdout",
     "output_type": "stream",
     "text": [
      "              Id   Name  Year Gender Count\n",
      "1455556  1455557  Jacob  2004      F   171\n"
     ]
    }
   ],
   "source": [
    "filtered_df = df[(df['Name'] == 'Jacob') & (df['Gender'] == 'F')]\n",
    "\n",
    "if not filtered_df.empty:\n",
    "    most_popular_row = filtered_df.loc[filtered_df['Count'].idxmax()]\n",
    "    print(most_popular_row.to_frame().T) \n",
    "else:\n",
    "    print(\"Не знайдено записів для імені 'Jacob' серед жінок.\")"
   ]
  },
  {
   "cell_type": "markdown",
   "id": "d9543fc0-70e6-4569-82e3-d31bb2219d40",
   "metadata": {},
   "source": [
    "## Завдання 14"
   ]
  },
  {
   "cell_type": "code",
   "execution_count": 795,
   "id": "90dd23cb-67ee-48c1-a573-8c4c40073880",
   "metadata": {},
   "outputs": [
    {
     "name": "stdout",
     "output_type": "stream",
     "text": [
      "   Year  Gender_neutral_names\n",
      "0  2008                  2557\n"
     ]
    }
   ],
   "source": [
    "grouped = df.groupby(['Name', 'Year', 'Gender']).size().unstack(fill_value=0)\n",
    "neutral_names = grouped[(grouped['M'] > 0) & (grouped['F'] > 0)]\n",
    "neutral_name_count_by_year = neutral_names.groupby('Year').size()\n",
    "most_popular_year = neutral_name_count_by_year.idxmax()\n",
    "most_popular_count = neutral_name_count_by_year.max()\n",
    "result = pd.DataFrame({\n",
    "    'Year': [most_popular_year],\n",
    "    'Gender_neutral_names': [most_popular_count]\n",
    "})\n",
    "\n",
    "print(result)"
   ]
  },
  {
   "cell_type": "markdown",
   "id": "d05561ab-0480-42e5-8c87-67405e40e23d",
   "metadata": {},
   "source": [
    "## Завдання 15"
   ]
  },
  {
   "cell_type": "code",
   "execution_count": 797,
   "id": "06ad80a4-51e5-4c55-8ad7-1461d9879bfb",
   "metadata": {},
   "outputs": [
    {
     "name": "stdout",
     "output_type": "stream",
     "text": [
      "     year    count\n",
      "0    1880   201484\n",
      "1    1881   192699\n",
      "2    1882   221538\n",
      "3    1883   216950\n",
      "4    1884   243467\n",
      "..    ...      ...\n",
      "130  2010  3686589\n",
      "131  2011  3646730\n",
      "132  2012  3643336\n",
      "133  2013  3626802\n",
      "134  2014  3670151\n",
      "\n",
      "[135 rows x 2 columns]\n"
     ]
    }
   ],
   "source": [
    "births_per_year = df.groupby('Year')['Count'].sum().reset_index()\n",
    "births_per_year.columns = ['year', 'count']\n",
    "\n",
    "print(births_per_year)"
   ]
  },
  {
   "cell_type": "markdown",
   "id": "5c711532-acbe-479f-953a-617add0a7716",
   "metadata": {},
   "source": [
    "## Завдання 16"
   ]
  },
  {
   "cell_type": "code",
   "execution_count": 799,
   "id": "2f197f77-69eb-43d7-9a98-1847a3d33086",
   "metadata": {},
   "outputs": [
    {
     "name": "stdout",
     "output_type": "stream",
     "text": [
      "1957\n"
     ]
    }
   ],
   "source": [
    "births_per_year = df.groupby('Year')['Count'].sum()\n",
    "most_births_year = births_per_year.idxmax()\n",
    "\n",
    "print(most_births_year)"
   ]
  },
  {
   "cell_type": "markdown",
   "id": "7b0437c8-b030-481c-bb4b-721140cfaede",
   "metadata": {},
   "source": [
    "## Завдання 17"
   ]
  },
  {
   "cell_type": "code",
   "execution_count": 801,
   "id": "e55d7f3f-b13d-410d-9539-756aac46ce42",
   "metadata": {},
   "outputs": [
    {
     "name": "stdout",
     "output_type": "stream",
     "text": [
      "Gender        F        M\n",
      "Year                    \n",
      "1880      90993   110491\n",
      "1881      91954   100745\n",
      "1882     107850   113688\n",
      "1883     112321   104629\n",
      "1884     129022   114445\n",
      "...         ...      ...\n",
      "2010    1772738  1913851\n",
      "2011    1753500  1893230\n",
      "2012    1753922  1889414\n",
      "2013    1745339  1881463\n",
      "2014    1768775  1901376\n",
      "\n",
      "[135 rows x 2 columns]\n"
     ]
    }
   ],
   "source": [
    "births_by_gender_per_year = df.groupby(['Year', 'Gender'])['Count'].sum().unstack(fill_value=0)\n",
    "\n",
    "print(births_by_gender_per_year)"
   ]
  },
  {
   "cell_type": "markdown",
   "id": "9083dc3d-66d9-4830-a80a-7dd479a0478b",
   "metadata": {},
   "source": [
    "## Завдання 18"
   ]
  },
  {
   "cell_type": "code",
   "execution_count": 803,
   "id": "4d6d513d-3607-47dd-898f-c0c193d82ef1",
   "metadata": {},
   "outputs": [
    {
     "name": "stdout",
     "output_type": "stream",
     "text": [
      "54\n"
     ]
    }
   ],
   "source": [
    "gender_count_per_year = names.groupby(['Year', 'Gender'])['Count'].sum().unstack(fill_value=0)\n",
    "years_more_girls = gender_count_per_year[gender_count_per_year['F'] > gender_count_per_year['M']]\n",
    "\n",
    "print(len(years_more_girls))"
   ]
  },
  {
   "cell_type": "markdown",
   "id": "abc29d00-ab89-4734-843e-5f36fb6569a2",
   "metadata": {},
   "source": [
    "## Завдання 21"
   ]
  },
  {
   "cell_type": "code",
   "execution_count": 805,
   "id": "f21c3ab6-80a4-4a8e-bd59-85a78baf3e46",
   "metadata": {},
   "outputs": [
    {
     "name": "stdout",
     "output_type": "stream",
     "text": [
      "4139\n"
     ]
    }
   ],
   "source": [
    "boys_named_barbara = names[(names['Name'] == 'Barbara') & (names['Gender'] == 'M')]\n",
    "\n",
    "print(boys_named_barbara['Count'].sum())"
   ]
  },
  {
   "cell_type": "markdown",
   "id": "baae9dd7-5f59-41d2-9511-68576af080b6",
   "metadata": {},
   "source": [
    "## Завдання 22"
   ]
  },
  {
   "cell_type": "code",
   "execution_count": 807,
   "id": "3a72234d-3782-423e-9f77-17b0be1e973d",
   "metadata": {},
   "outputs": [
    {
     "name": "stdout",
     "output_type": "stream",
     "text": [
      "135\n"
     ]
    }
   ],
   "source": [
    "min_year = df['Year'].min()\n",
    "max_year = df['Year'].max()\n",
    "years_of_observation = max_year - min_year + 1\n",
    "\n",
    "print(years_of_observation)"
   ]
  },
  {
   "cell_type": "markdown",
   "id": "d41b247e-6f32-4a4d-9f08-59770fe992f3",
   "metadata": {},
   "source": [
    "## Завдання 23"
   ]
  },
  {
   "cell_type": "code",
   "execution_count": 809,
   "id": "d73a7f11-42fb-4599-a425-9fc9880df67e",
   "metadata": {},
   "outputs": [
    {
     "name": "stdout",
     "output_type": "stream",
     "text": [
      "           Name    Count\n",
      "0         James  5129096\n",
      "1          John  5106590\n",
      "2        Robert  4816785\n",
      "3       Michael  4330805\n",
      "4          Mary  4130441\n",
      "5       William  4071368\n",
      "6         David  3590557\n",
      "7        Joseph  2580687\n",
      "8       Richard  2564867\n",
      "9       Charles  2376700\n",
      "10       Thomas  2291517\n",
      "11  Christopher  2004177\n",
      "12       Daniel  1876880\n",
      "13    Elizabeth  1606282\n",
      "14     Patricia  1575529\n"
     ]
    }
   ],
   "source": [
    "name_year_count = names.groupby(['Name', 'Year'])['Count'].sum().unstack(fill_value=0)\n",
    "names_present_in_all_years = name_year_count.dropna(axis=0, how='any')\n",
    "popular_neutral_names = names_present_in_all_years.sum(axis=1)\n",
    "most_popular_neutral_names = popular_neutral_names.sort_values(ascending=False)\n",
    "print(most_popular_neutral_names.reset_index(name = 'Count').head(15))"
   ]
  },
  {
   "cell_type": "markdown",
   "id": "b9dcb6a1-9c6e-4093-a278-031fd92c05ce",
   "metadata": {},
   "source": [
    "## Завдання 24"
   ]
  },
  {
   "cell_type": "code",
   "execution_count": 811,
   "id": "24bec5fc-871a-4782-b861-404ea7e4be29",
   "metadata": {},
   "outputs": [
    {
     "name": "stdout",
     "output_type": "stream",
     "text": [
      "Name     Allen\n",
      "Count      184\n",
      "Name: 1023, dtype: object\n"
     ]
    }
   ],
   "source": [
    "average_count = df['Count'].mean()\n",
    "unpopular_names = df[df['Count'] < average_count]\n",
    "most_popular_unpopular_name = unpopular_names.loc[unpopular_names['Count'].idxmax()]\n",
    "\n",
    "print(most_popular_unpopular_name[['Name', 'Count']])"
   ]
  },
  {
   "cell_type": "markdown",
   "id": "225d9864-324e-4428-9b57-5680ecedd145",
   "metadata": {},
   "source": [
    "## Завдання 26"
   ]
  },
  {
   "cell_type": "code",
   "execution_count": 835,
   "id": "5a4ab636-e599-4741-bc12-11906d52573c",
   "metadata": {},
   "outputs": [
    {
     "data": {
      "image/png": "[encoded data removed]",
      "text/plain": [
       "<Figure size 1200x600 with 1 Axes>"
      ]
     },
     "metadata": {},
     "output_type": "display_data"
    }
   ],
   "source": [
    "import matplotlib.pyplot as plt\n",
    "\n",
    "john_data = names[names['Name'] == 'John']\n",
    "mary_data = names[names['Name'] == 'Mary']\n",
    "john_years_count = john_data.groupby('Year')['Count'].sum()\n",
    "mary_years_count = mary_data.groupby('Year')['Count'].sum()\n",
    "plt.figure(figsize=(12, 6))\n",
    "plt.plot(john_years_count.index, john_years_count.values, label='John')\n",
    "plt.plot(mary_years_count.index, mary_years_count.values, label='Mary')\n",
    "\n",
    "\n",
    "plt.xlabel('Year')\n",
    "plt.legend()\n",
    "plt.grid(True)\n",
    "plt.tight_layout()\n",
    "plt.show()"
   ]
  },
  {
   "cell_type": "code",
   "execution_count": null,
   "id": "af530f37-490b-47c7-bb8e-eeb4d0f3a698",
   "metadata": {},
   "outputs": [],
   "source": []
  }
 ],
 "metadata": {
  "kernelspec": {
   "display_name": "Python [conda env:base] *",
   "language": "python",
   "name": "conda-base-py"
  },
  "language_info": {
   "codemirror_mode": {
    "name": "ipython",
    "version": 3
   },
   "file_extension": ".py",
   "mimetype": "text/x-python",
   "name": "python",
   "nbconvert_exporter": "python",
   "pygments_lexer": "ipython3",
   "version": "3.12.7"
  }
 },
 "nbformat": 4,
 "nbformat_minor": 5
}
